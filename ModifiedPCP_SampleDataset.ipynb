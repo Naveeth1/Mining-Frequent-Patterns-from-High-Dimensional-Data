{
  "nbformat": 4,
  "nbformat_minor": 0,
  "metadata": {
    "colab": {
      "name": "Modified_with_statistical_measures.ipynb",
      "provenance": []
    },
    "kernelspec": {
      "name": "python3",
      "display_name": "Python 3"
    }
  },
  "cells": [
    {
      "cell_type": "code",
      "metadata": {
        "id": "k-0JuxYSJ7FV"
      },
      "source": [
        ""
      ],
      "execution_count": null,
      "outputs": []
    },
    {
      "cell_type": "markdown",
      "metadata": {
        "id": "0p9D8mNuiJ_s"
      },
      "source": [
        "**Modified PCP-Miner Algorithm with Effective Pruning Technique**\r\n",
        "\r\n"
      ]
    },
    {
      "cell_type": "markdown",
      "metadata": {
        "id": "xiifWczxFaOD"
      },
      "source": [
        "Preparing the dataset"
      ]
    },
    {
      "cell_type": "code",
      "metadata": {
        "id": "ycW1osTS-SuE"
      },
      "source": [
        "import numpy as np\r\n",
        "import pandas as pd"
      ],
      "execution_count": null,
      "outputs": []
    },
    {
      "cell_type": "code",
      "metadata": {
        "id": "dSybElNu09TV",
        "colab": {
          "base_uri": "https://localhost:8080/"
        },
        "outputId": "d60403ad-588f-4b82-bae9-a63318bcf696"
      },
      "source": [
        "r1=['a', 'b', 'd', 'f', 'j']\r\n",
        "r2=['a', 'b', 'd', 'g', 'h']\r\n",
        "r3=['b', 'd', 'g', 'h']\r\n",
        "r4=['a', 'b', 'f', 'h', 'i', 'j']\r\n",
        "r5=['a', 'c', 'd', 'g', 'h', 'j']\r\n",
        "r6=['b', 'd', 'i']\r\n",
        "r7=['e', 'g']\r\n",
        "r8=['e', 'k']\r\n",
        "database=[r1,r2,r3,r4,r5,r6,r7,r8]\r\n",
        "initial_dataset = pd.DataFrame({ 'tid':[i for i in range(1,len(database)+1)], 'Itemset':database,})\r\n",
        "print('Given dataset is of the form:\\n\\n',initial_dataset)"
      ],
      "execution_count": null,
      "outputs": [
        {
          "output_type": "stream",
          "text": [
            "Given dataset is of the form:\n",
            "\n",
            "    tid             Itemset\n",
            "0    1     [a, b, d, f, j]\n",
            "1    2     [a, b, d, g, h]\n",
            "2    3        [b, d, g, h]\n",
            "3    4  [a, b, f, h, i, j]\n",
            "4    5  [a, c, d, g, h, j]\n",
            "5    6           [b, d, i]\n",
            "6    7              [e, g]\n",
            "7    8              [e, k]\n"
          ],
          "name": "stdout"
        }
      ]
    },
    {
      "cell_type": "markdown",
      "metadata": {
        "id": "NPFfVrFjd2l4"
      },
      "source": [
        "Listing out all the items in the dataset"
      ]
    },
    {
      "cell_type": "code",
      "metadata": {
        "colab": {
          "base_uri": "https://localhost:8080/"
        },
        "id": "cbD__FFp99pX",
        "outputId": "55b31b1a-f171-44bc-9dcf-7d8953a54166"
      },
      "source": [
        "itemset= np.sort(list(set(r1+r2+r3+r4+r4+r5+r6+r7+r8)))\r\n",
        "print(\"itemset is :\", itemset)\r\n",
        "itemset_original=itemset"
      ],
      "execution_count": null,
      "outputs": [
        {
          "output_type": "stream",
          "text": [
            "itemset is : ['a' 'b' 'c' 'd' 'e' 'f' 'g' 'h' 'i' 'j' 'k']\n"
          ],
          "name": "stdout"
        }
      ]
    },
    {
      "cell_type": "markdown",
      "metadata": {
        "id": "7EIFXeLEFxMt"
      },
      "source": [
        "Converting Transactions into bit vectors:"
      ]
    },
    {
      "cell_type": "code",
      "metadata": {
        "id": "8C20y1Bw-h_v"
      },
      "source": [
        "def bit_vector(lst):\r\n",
        "  row=[]\r\n",
        "  for i in itemset:\r\n",
        "    if i in lst:\r\n",
        "      \r\n",
        "      row.append(1)\r\n",
        "    else:\r\n",
        "      row.append(0)\r\n",
        "  return row"
      ],
      "execution_count": null,
      "outputs": []
    },
    {
      "cell_type": "markdown",
      "metadata": {
        "id": "XdHM2UISF9gx"
      },
      "source": [
        "**Final Bit-Table/Matrix**"
      ]
    },
    {
      "cell_type": "code",
      "metadata": {
        "colab": {
          "base_uri": "https://localhost:8080/"
        },
        "id": "69BaIPRY-aiW",
        "outputId": "f1d2889f-5637-4f3c-aa56-a575ce1b43dd"
      },
      "source": [
        "bit_matrix=[]\r\n",
        "for transaction in database:\r\n",
        "  row_bit=bit_vector(transaction)\r\n",
        "  bit_matrix.append(row_bit)\r\n",
        "bit_matrix=np.array(bit_matrix)\r\n",
        "\r\n",
        "df_original = pd.DataFrame(data=bit_matrix, index=[\"r\"+str(i) for i in range(1,len(bit_matrix)+1)], columns=itemset)\r\n",
        "\r\n",
        "print(df_original)\r\n",
        "bit_matrix.shape"
      ],
      "execution_count": null,
      "outputs": [
        {
          "output_type": "stream",
          "text": [
            "    a  b  c  d  e  f  g  h  i  j  k\n",
            "r1  1  1  0  1  0  1  0  0  0  1  0\n",
            "r2  1  1  0  1  0  0  1  1  0  0  0\n",
            "r3  0  1  0  1  0  0  1  1  0  0  0\n",
            "r4  1  1  0  0  0  1  0  1  1  1  0\n",
            "r5  1  0  1  1  0  0  1  1  0  1  0\n",
            "r6  0  1  0  1  0  0  0  0  1  0  0\n",
            "r7  0  0  0  0  1  0  1  0  0  0  0\n",
            "r8  0  0  0  0  1  0  0  0  0  0  1\n"
          ],
          "name": "stdout"
        },
        {
          "output_type": "execute_result",
          "data": {
            "text/plain": [
              "(8, 11)"
            ]
          },
          "metadata": {
            "tags": []
          },
          "execution_count": 7
        }
      ]
    },
    {
      "cell_type": "markdown",
      "metadata": {
        "id": "rpsh-Tr7Cmq_"
      },
      "source": [
        "** To Add more transactions to the database:**"
      ]
    },
    {
      "cell_type": "code",
      "metadata": {
        "colab": {
          "base_uri": "https://localhost:8080/",
          "height": 72
        },
        "id": "RhgZieYO-saZ",
        "outputId": "26147f7e-2d54-4c47-fd62-72ee4024f1ab"
      },
      "source": [
        "\"\"\"\r\n",
        "def add_transaction(t_list,bit_matrix):\r\n",
        "  bit_matrix=list(bit_matrix)\r\n",
        "  bit_matrix.append(bit_vector(t_list))\r\n",
        "  bit_matrix=np.array(bit_matrix)\r\n",
        "  return bit_matrix\r\n",
        "\r\n",
        "######## function calling #############\r\n",
        "bit_matrix=add_transaction(['d','f'],bit_matrix)\r\n",
        "print(bit_matrix)\r\n",
        "print(bit_matrix.shape)\r\n",
        "\"\"\""
      ],
      "execution_count": null,
      "outputs": [
        {
          "output_type": "execute_result",
          "data": {
            "application/vnd.google.colaboratory.intrinsic+json": {
              "type": "string"
            },
            "text/plain": [
              "\"\\ndef add_transaction(t_list,bit_matrix):\\n  bit_matrix=list(bit_matrix)\\n  bit_matrix.append(bit_vector(t_list))\\n  bit_matrix=np.array(bit_matrix)\\n  return bit_matrix\\n\\n######## function calling #############\\nbit_matrix=add_transaction(['d','f'],bit_matrix)\\nprint(bit_matrix)\\nprint(bit_matrix.shape)\\n\""
            ]
          },
          "metadata": {
            "tags": []
          },
          "execution_count": 8
        }
      ]
    },
    {
      "cell_type": "markdown",
      "metadata": {
        "id": "gWvRomuKkqtl"
      },
      "source": [
        "**Effective Pruning Technique:**"
      ]
    },
    {
      "cell_type": "markdown",
      "metadata": {
        "id": "vuCp26Sn_F2U"
      },
      "source": [
        "**Pruninig definition**"
      ]
    },
    {
      "cell_type": "code",
      "metadata": {
        "id": "zyOz6xkR_DVo"
      },
      "source": [
        "itemset_new=itemset\r\n",
        "def row_pruning(bit_matrix, min_card, min_sup, iter, itemset1):\r\n",
        "  index=[]\r\n",
        "  count=0\r\n",
        "  for i in range(len(bit_matrix)):\r\n",
        "    if np.sum(bit_matrix[i]) < min_card:\r\n",
        "      index.append(i)\r\n",
        "  #    row_indices.append(i)\r\n",
        "      count+=1\r\n",
        "  print(\"pruning step: \",iter)\r\n",
        "  print(\"prune row index\",index)\r\n",
        "  print(\"row count\",count)\r\n",
        "  bit_mat_row = np.delete(bit_matrix,index,axis=0)\r\n",
        "  #print(\"bit_mat_row\\n\\n\\n\",bit_mat_row)\r\n",
        "  df_row = pd.DataFrame(data=bit_mat_row, index=[\"r\"+str(i) for i in range(1,len(bit_mat_row)+1)], columns=itemset1)\r\n",
        "  print(df_row)\r\n",
        "\r\n",
        "\r\n",
        "  print(\"bit_mat_row SHAPE\",bit_mat_row.shape)\r\n",
        "\r\n",
        "  if(bit_mat_row == []):\r\n",
        "    return []\r\n",
        "  if (iter>0 and np.array_equal(bit_mat_row , bit_matrix, equal_nan=False)):\r\n",
        "    return bit_mat_row\r\n",
        "    print(\"***\")\r\n",
        "  elif bit_mat_row !=[]:\r\n",
        "    return col_pruning(bit_mat_row, min_card, min_sup, iter+1)\r\n",
        "  else:\r\n",
        "      return bit_matrix\r\n",
        "\r\n",
        "def col_pruning(bit_matrix, min_card, min_sup, iter):\r\n",
        "  count=0\r\n",
        "  index=[]\r\n",
        "  for i in range(len(bit_matrix[0])):\r\n",
        "    if np.sum(bit_matrix[:,i]) < min_sup:\r\n",
        "      count+=1\r\n",
        "      index.append(i)\r\n",
        "  #    col_indices.append(i)\r\n",
        "  print(\"pruning step: \",iter)\r\n",
        "  print(\"prune col index\",index)\r\n",
        "  print(\"col count\",count)\r\n",
        "\r\n",
        "  bit_mat_col = np.delete(bit_matrix,index,axis=1)\r\n",
        "  global itemset_new\r\n",
        "  itemset_new = np.delete(itemset_new,index,axis=0)\r\n",
        "  #print(\"bit_mat_col\\n\\n\\n\",bit_mat_col)\r\n",
        "  df_col = pd.DataFrame(data=bit_mat_col, index=[\"r\"+str(i) for i in range(1,len(bit_mat_col)+1)], columns=itemset_new)\r\n",
        "  print(df_col)\r\n",
        "  print(\"bit_mat_col SHAPE\",bit_mat_col.shape)\r\n",
        "  print(\"itemset_new\",itemset_new)\r\n",
        "  if np.array_equal(bit_mat_col , bit_matrix, equal_nan=False):\r\n",
        "    return bit_mat_col\r\n",
        "    print(\"***\")\r\n",
        "  elif (bit_mat_col != []):\r\n",
        "    return row_pruning(bit_mat_col, min_card, min_sup, iter+1, itemset_new)\r\n",
        "  else:\r\n",
        "    return bit_matrix"
      ],
      "execution_count": null,
      "outputs": []
    },
    {
      "cell_type": "markdown",
      "metadata": {
        "id": "jI_FuTZeGOnL"
      },
      "source": [
        "Testing pruning function:"
      ]
    },
    {
      "cell_type": "code",
      "metadata": {
        "colab": {
          "base_uri": "https://localhost:8080/"
        },
        "id": "pLN_7VkE_QVC",
        "outputId": "0ccef267-8b49-4164-db37-ce1ee93bd23c"
      },
      "source": [
        "iter = 0\r\n",
        "min_card=2\r\n",
        "min_sup=2\r\n",
        "print(\"Shape of original dataset is: \",bit_matrix.shape)\r\n",
        "df_original = pd.DataFrame(data=bit_matrix, index=[\"r\"+str(i) for i in range(1,len(bit_matrix)+1)], columns=itemset)\r\n",
        "print(\"Original dataset is: \")\r\n",
        "\r\n",
        "print(df_original)\r\n",
        "print(\"############################################\\n\\n\\n\")\r\n",
        "new_mat = row_pruning(bit_matrix, min_card, min_sup, iter, itemset)\r\n",
        "print(\"final shape:\",new_mat.shape)\r\n",
        "print(\"new_mat\\n\",new_mat)"
      ],
      "execution_count": null,
      "outputs": [
        {
          "output_type": "stream",
          "text": [
            "Shape of original dataset is:  (8, 11)\n",
            "Original dataset is: \n",
            "    a  b  c  d  e  f  g  h  i  j  k\n",
            "r1  1  1  0  1  0  1  0  0  0  1  0\n",
            "r2  1  1  0  1  0  0  1  1  0  0  0\n",
            "r3  0  1  0  1  0  0  1  1  0  0  0\n",
            "r4  1  1  0  0  0  1  0  1  1  1  0\n",
            "r5  1  0  1  1  0  0  1  1  0  1  0\n",
            "r6  0  1  0  1  0  0  0  0  1  0  0\n",
            "r7  0  0  0  0  1  0  1  0  0  0  0\n",
            "r8  0  0  0  0  1  0  0  0  0  0  1\n",
            "############################################\n",
            "\n",
            "\n",
            "\n",
            "pruning step:  0\n",
            "prune row index []\n",
            "row count 0\n",
            "    a  b  c  d  e  f  g  h  i  j  k\n",
            "r1  1  1  0  1  0  1  0  0  0  1  0\n",
            "r2  1  1  0  1  0  0  1  1  0  0  0\n",
            "r3  0  1  0  1  0  0  1  1  0  0  0\n",
            "r4  1  1  0  0  0  1  0  1  1  1  0\n",
            "r5  1  0  1  1  0  0  1  1  0  1  0\n",
            "r6  0  1  0  1  0  0  0  0  1  0  0\n",
            "r7  0  0  0  0  1  0  1  0  0  0  0\n",
            "r8  0  0  0  0  1  0  0  0  0  0  1\n",
            "bit_mat_row SHAPE (8, 11)\n",
            "pruning step:  1\n",
            "prune col index [2, 10]\n",
            "col count 2\n",
            "    a  b  d  e  f  g  h  i  j\n",
            "r1  1  1  1  0  1  0  0  0  1\n",
            "r2  1  1  1  0  0  1  1  0  0\n",
            "r3  0  1  1  0  0  1  1  0  0\n",
            "r4  1  1  0  0  1  0  1  1  1\n",
            "r5  1  0  1  0  0  1  1  0  1\n",
            "r6  0  1  1  0  0  0  0  1  0\n",
            "r7  0  0  0  1  0  1  0  0  0\n",
            "r8  0  0  0  1  0  0  0  0  0\n",
            "bit_mat_col SHAPE (8, 9)\n",
            "itemset_new ['a' 'b' 'd' 'e' 'f' 'g' 'h' 'i' 'j']\n",
            "pruning step:  2\n",
            "prune row index [7]\n",
            "row count 1\n",
            "    a  b  d  e  f  g  h  i  j\n",
            "r1  1  1  1  0  1  0  0  0  1\n",
            "r2  1  1  1  0  0  1  1  0  0\n",
            "r3  0  1  1  0  0  1  1  0  0\n",
            "r4  1  1  0  0  1  0  1  1  1\n",
            "r5  1  0  1  0  0  1  1  0  1\n",
            "r6  0  1  1  0  0  0  0  1  0\n",
            "r7  0  0  0  1  0  1  0  0  0\n",
            "bit_mat_row SHAPE (7, 9)\n",
            "pruning step:  3\n",
            "prune col index [3]\n",
            "col count 1\n",
            "    a  b  d  f  g  h  i  j\n",
            "r1  1  1  1  1  0  0  0  1\n",
            "r2  1  1  1  0  1  1  0  0\n",
            "r3  0  1  1  0  1  1  0  0\n",
            "r4  1  1  0  1  0  1  1  1\n",
            "r5  1  0  1  0  1  1  0  1\n",
            "r6  0  1  1  0  0  0  1  0\n",
            "r7  0  0  0  0  1  0  0  0\n",
            "bit_mat_col SHAPE (7, 8)\n",
            "itemset_new ['a' 'b' 'd' 'f' 'g' 'h' 'i' 'j']\n",
            "pruning step:  4\n",
            "prune row index [6]\n",
            "row count 1\n",
            "    a  b  d  f  g  h  i  j\n",
            "r1  1  1  1  1  0  0  0  1\n",
            "r2  1  1  1  0  1  1  0  0\n",
            "r3  0  1  1  0  1  1  0  0\n",
            "r4  1  1  0  1  0  1  1  1\n",
            "r5  1  0  1  0  1  1  0  1\n",
            "r6  0  1  1  0  0  0  1  0\n",
            "bit_mat_row SHAPE (6, 8)\n",
            "pruning step:  5\n",
            "prune col index []\n",
            "col count 0\n",
            "    a  b  d  f  g  h  i  j\n",
            "r1  1  1  1  1  0  0  0  1\n",
            "r2  1  1  1  0  1  1  0  0\n",
            "r3  0  1  1  0  1  1  0  0\n",
            "r4  1  1  0  1  0  1  1  1\n",
            "r5  1  0  1  0  1  1  0  1\n",
            "r6  0  1  1  0  0  0  1  0\n",
            "bit_mat_col SHAPE (6, 8)\n",
            "itemset_new ['a' 'b' 'd' 'f' 'g' 'h' 'i' 'j']\n",
            "final shape: (6, 8)\n",
            "new_mat\n",
            " [[1 1 1 1 0 0 0 1]\n",
            " [1 1 1 0 1 1 0 0]\n",
            " [0 1 1 0 1 1 0 0]\n",
            " [1 1 0 1 0 1 1 1]\n",
            " [1 0 1 0 1 1 0 1]\n",
            " [0 1 1 0 0 0 1 0]]\n"
          ],
          "name": "stdout"
        },
        {
          "output_type": "stream",
          "text": [
            "/usr/local/lib/python3.6/dist-packages/ipykernel_launcher.py:21: DeprecationWarning: elementwise comparison failed; this will raise an error in the future.\n",
            "/usr/local/lib/python3.6/dist-packages/ipykernel_launcher.py:26: DeprecationWarning: elementwise comparison failed; this will raise an error in the future.\n",
            "/usr/local/lib/python3.6/dist-packages/ipykernel_launcher.py:54: DeprecationWarning: elementwise comparison failed; this will raise an error in the future.\n",
            "/usr/local/lib/python3.6/dist-packages/ipykernel_launcher.py:21: DeprecationWarning: elementwise comparison failed; this will raise an error in the future.\n",
            "/usr/local/lib/python3.6/dist-packages/ipykernel_launcher.py:26: DeprecationWarning: elementwise comparison failed; this will raise an error in the future.\n",
            "/usr/local/lib/python3.6/dist-packages/ipykernel_launcher.py:54: DeprecationWarning: elementwise comparison failed; this will raise an error in the future.\n",
            "/usr/local/lib/python3.6/dist-packages/ipykernel_launcher.py:21: DeprecationWarning: elementwise comparison failed; this will raise an error in the future.\n",
            "/usr/local/lib/python3.6/dist-packages/ipykernel_launcher.py:26: DeprecationWarning: elementwise comparison failed; this will raise an error in the future.\n"
          ],
          "name": "stderr"
        }
      ]
    },
    {
      "cell_type": "markdown",
      "metadata": {
        "id": "MhuEwuD5eTfO"
      },
      "source": [
        "The dataset after pruning:"
      ]
    },
    {
      "cell_type": "code",
      "metadata": {
        "colab": {
          "base_uri": "https://localhost:8080/",
          "height": 238
        },
        "id": "pk2vtG_PHPFc",
        "outputId": "76aaa62a-6374-406f-dd6d-6427633cbbd8"
      },
      "source": [
        "import pandas as pd\r\n",
        "df = pd.DataFrame(data=new_mat, index=[\"r\"+str(i) for i in range(1,len(new_mat)+1)], columns=itemset_new)\r\n",
        "df"
      ],
      "execution_count": null,
      "outputs": [
        {
          "output_type": "execute_result",
          "data": {
            "text/html": [
              "<div>\n",
              "<style scoped>\n",
              "    .dataframe tbody tr th:only-of-type {\n",
              "        vertical-align: middle;\n",
              "    }\n",
              "\n",
              "    .dataframe tbody tr th {\n",
              "        vertical-align: top;\n",
              "    }\n",
              "\n",
              "    .dataframe thead th {\n",
              "        text-align: right;\n",
              "    }\n",
              "</style>\n",
              "<table border=\"1\" class=\"dataframe\">\n",
              "  <thead>\n",
              "    <tr style=\"text-align: right;\">\n",
              "      <th></th>\n",
              "      <th>a</th>\n",
              "      <th>b</th>\n",
              "      <th>d</th>\n",
              "      <th>f</th>\n",
              "      <th>g</th>\n",
              "      <th>h</th>\n",
              "      <th>i</th>\n",
              "      <th>j</th>\n",
              "    </tr>\n",
              "  </thead>\n",
              "  <tbody>\n",
              "    <tr>\n",
              "      <th>r1</th>\n",
              "      <td>1</td>\n",
              "      <td>1</td>\n",
              "      <td>1</td>\n",
              "      <td>1</td>\n",
              "      <td>0</td>\n",
              "      <td>0</td>\n",
              "      <td>0</td>\n",
              "      <td>1</td>\n",
              "    </tr>\n",
              "    <tr>\n",
              "      <th>r2</th>\n",
              "      <td>1</td>\n",
              "      <td>1</td>\n",
              "      <td>1</td>\n",
              "      <td>0</td>\n",
              "      <td>1</td>\n",
              "      <td>1</td>\n",
              "      <td>0</td>\n",
              "      <td>0</td>\n",
              "    </tr>\n",
              "    <tr>\n",
              "      <th>r3</th>\n",
              "      <td>0</td>\n",
              "      <td>1</td>\n",
              "      <td>1</td>\n",
              "      <td>0</td>\n",
              "      <td>1</td>\n",
              "      <td>1</td>\n",
              "      <td>0</td>\n",
              "      <td>0</td>\n",
              "    </tr>\n",
              "    <tr>\n",
              "      <th>r4</th>\n",
              "      <td>1</td>\n",
              "      <td>1</td>\n",
              "      <td>0</td>\n",
              "      <td>1</td>\n",
              "      <td>0</td>\n",
              "      <td>1</td>\n",
              "      <td>1</td>\n",
              "      <td>1</td>\n",
              "    </tr>\n",
              "    <tr>\n",
              "      <th>r5</th>\n",
              "      <td>1</td>\n",
              "      <td>0</td>\n",
              "      <td>1</td>\n",
              "      <td>0</td>\n",
              "      <td>1</td>\n",
              "      <td>1</td>\n",
              "      <td>0</td>\n",
              "      <td>1</td>\n",
              "    </tr>\n",
              "    <tr>\n",
              "      <th>r6</th>\n",
              "      <td>0</td>\n",
              "      <td>1</td>\n",
              "      <td>1</td>\n",
              "      <td>0</td>\n",
              "      <td>0</td>\n",
              "      <td>0</td>\n",
              "      <td>1</td>\n",
              "      <td>0</td>\n",
              "    </tr>\n",
              "  </tbody>\n",
              "</table>\n",
              "</div>"
            ],
            "text/plain": [
              "    a  b  d  f  g  h  i  j\n",
              "r1  1  1  1  1  0  0  0  1\n",
              "r2  1  1  1  0  1  1  0  0\n",
              "r3  0  1  1  0  1  1  0  0\n",
              "r4  1  1  0  1  0  1  1  1\n",
              "r5  1  0  1  0  1  1  0  1\n",
              "r6  0  1  1  0  0  0  1  0"
            ]
          },
          "metadata": {
            "tags": []
          },
          "execution_count": 11
        }
      ]
    },
    {
      "cell_type": "code",
      "metadata": {
        "colab": {
          "base_uri": "https://localhost:8080/",
          "height": 238
        },
        "id": "g7BNhS-EUDxc",
        "outputId": "eceb363b-60e5-44e8-dd92-16131d77e0b9"
      },
      "source": [
        "dataset = pd.DataFrame({ 'tid':[i for i in range(1,len(new_mat)+1)], 'pattern':list(new_mat),'cardinality':np.sum(new_mat,axis=1)})\r\n",
        "dataset"
      ],
      "execution_count": null,
      "outputs": [
        {
          "output_type": "execute_result",
          "data": {
            "text/html": [
              "<div>\n",
              "<style scoped>\n",
              "    .dataframe tbody tr th:only-of-type {\n",
              "        vertical-align: middle;\n",
              "    }\n",
              "\n",
              "    .dataframe tbody tr th {\n",
              "        vertical-align: top;\n",
              "    }\n",
              "\n",
              "    .dataframe thead th {\n",
              "        text-align: right;\n",
              "    }\n",
              "</style>\n",
              "<table border=\"1\" class=\"dataframe\">\n",
              "  <thead>\n",
              "    <tr style=\"text-align: right;\">\n",
              "      <th></th>\n",
              "      <th>tid</th>\n",
              "      <th>pattern</th>\n",
              "      <th>cardinality</th>\n",
              "    </tr>\n",
              "  </thead>\n",
              "  <tbody>\n",
              "    <tr>\n",
              "      <th>0</th>\n",
              "      <td>1</td>\n",
              "      <td>[1, 1, 1, 1, 0, 0, 0, 1]</td>\n",
              "      <td>5</td>\n",
              "    </tr>\n",
              "    <tr>\n",
              "      <th>1</th>\n",
              "      <td>2</td>\n",
              "      <td>[1, 1, 1, 0, 1, 1, 0, 0]</td>\n",
              "      <td>5</td>\n",
              "    </tr>\n",
              "    <tr>\n",
              "      <th>2</th>\n",
              "      <td>3</td>\n",
              "      <td>[0, 1, 1, 0, 1, 1, 0, 0]</td>\n",
              "      <td>4</td>\n",
              "    </tr>\n",
              "    <tr>\n",
              "      <th>3</th>\n",
              "      <td>4</td>\n",
              "      <td>[1, 1, 0, 1, 0, 1, 1, 1]</td>\n",
              "      <td>6</td>\n",
              "    </tr>\n",
              "    <tr>\n",
              "      <th>4</th>\n",
              "      <td>5</td>\n",
              "      <td>[1, 0, 1, 0, 1, 1, 0, 1]</td>\n",
              "      <td>5</td>\n",
              "    </tr>\n",
              "    <tr>\n",
              "      <th>5</th>\n",
              "      <td>6</td>\n",
              "      <td>[0, 1, 1, 0, 0, 0, 1, 0]</td>\n",
              "      <td>3</td>\n",
              "    </tr>\n",
              "  </tbody>\n",
              "</table>\n",
              "</div>"
            ],
            "text/plain": [
              "   tid                   pattern  cardinality\n",
              "0    1  [1, 1, 1, 1, 0, 0, 0, 1]            5\n",
              "1    2  [1, 1, 1, 0, 1, 1, 0, 0]            5\n",
              "2    3  [0, 1, 1, 0, 1, 1, 0, 0]            4\n",
              "3    4  [1, 1, 0, 1, 0, 1, 1, 1]            6\n",
              "4    5  [1, 0, 1, 0, 1, 1, 0, 1]            5\n",
              "5    6  [0, 1, 1, 0, 0, 0, 1, 0]            3"
            ]
          },
          "metadata": {
            "tags": []
          },
          "execution_count": 12
        }
      ]
    },
    {
      "cell_type": "markdown",
      "metadata": {
        "id": "bi54y2jpeewr"
      },
      "source": [
        "Sorting the dataset based on the Cardinality"
      ]
    },
    {
      "cell_type": "code",
      "metadata": {
        "colab": {
          "base_uri": "https://localhost:8080/",
          "height": 238
        },
        "id": "x4cUtR5LUrmM",
        "outputId": "14374949-9f3c-46ef-8477-6dcd00fc0828"
      },
      "source": [
        "dataset = dataset.sort_values(by ='cardinality',ascending=False )\r\n",
        "dataset = dataset.reset_index()\r\n",
        "dataset = dataset.drop(['index'], axis=1)\r\n",
        "tid = [i for i in range(1,len(dataset)+1)]\r\n",
        "dataset['tid'] = tid\r\n",
        "dataset"
      ],
      "execution_count": null,
      "outputs": [
        {
          "output_type": "execute_result",
          "data": {
            "text/html": [
              "<div>\n",
              "<style scoped>\n",
              "    .dataframe tbody tr th:only-of-type {\n",
              "        vertical-align: middle;\n",
              "    }\n",
              "\n",
              "    .dataframe tbody tr th {\n",
              "        vertical-align: top;\n",
              "    }\n",
              "\n",
              "    .dataframe thead th {\n",
              "        text-align: right;\n",
              "    }\n",
              "</style>\n",
              "<table border=\"1\" class=\"dataframe\">\n",
              "  <thead>\n",
              "    <tr style=\"text-align: right;\">\n",
              "      <th></th>\n",
              "      <th>tid</th>\n",
              "      <th>pattern</th>\n",
              "      <th>cardinality</th>\n",
              "    </tr>\n",
              "  </thead>\n",
              "  <tbody>\n",
              "    <tr>\n",
              "      <th>0</th>\n",
              "      <td>1</td>\n",
              "      <td>[1, 1, 0, 1, 0, 1, 1, 1]</td>\n",
              "      <td>6</td>\n",
              "    </tr>\n",
              "    <tr>\n",
              "      <th>1</th>\n",
              "      <td>2</td>\n",
              "      <td>[1, 1, 1, 1, 0, 0, 0, 1]</td>\n",
              "      <td>5</td>\n",
              "    </tr>\n",
              "    <tr>\n",
              "      <th>2</th>\n",
              "      <td>3</td>\n",
              "      <td>[1, 1, 1, 0, 1, 1, 0, 0]</td>\n",
              "      <td>5</td>\n",
              "    </tr>\n",
              "    <tr>\n",
              "      <th>3</th>\n",
              "      <td>4</td>\n",
              "      <td>[1, 0, 1, 0, 1, 1, 0, 1]</td>\n",
              "      <td>5</td>\n",
              "    </tr>\n",
              "    <tr>\n",
              "      <th>4</th>\n",
              "      <td>5</td>\n",
              "      <td>[0, 1, 1, 0, 1, 1, 0, 0]</td>\n",
              "      <td>4</td>\n",
              "    </tr>\n",
              "    <tr>\n",
              "      <th>5</th>\n",
              "      <td>6</td>\n",
              "      <td>[0, 1, 1, 0, 0, 0, 1, 0]</td>\n",
              "      <td>3</td>\n",
              "    </tr>\n",
              "  </tbody>\n",
              "</table>\n",
              "</div>"
            ],
            "text/plain": [
              "   tid                   pattern  cardinality\n",
              "0    1  [1, 1, 0, 1, 0, 1, 1, 1]            6\n",
              "1    2  [1, 1, 1, 1, 0, 0, 0, 1]            5\n",
              "2    3  [1, 1, 1, 0, 1, 1, 0, 0]            5\n",
              "3    4  [1, 0, 1, 0, 1, 1, 0, 1]            5\n",
              "4    5  [0, 1, 1, 0, 1, 1, 0, 0]            4\n",
              "5    6  [0, 1, 1, 0, 0, 0, 1, 0]            3"
            ]
          },
          "metadata": {
            "tags": []
          },
          "execution_count": 13
        }
      ]
    },
    {
      "cell_type": "code",
      "metadata": {
        "id": "81h1IwOCU5Ij"
      },
      "source": [
        ""
      ],
      "execution_count": null,
      "outputs": []
    },
    {
      "cell_type": "markdown",
      "metadata": {
        "id": "BbgwS-pMephK"
      },
      "source": [
        "Adding support information to the Dataframe"
      ]
    },
    {
      "cell_type": "code",
      "metadata": {
        "colab": {
          "base_uri": "https://localhost:8080/",
          "height": 238
        },
        "id": "KpgF41zV_HCO",
        "outputId": "eb37f7d7-2975-45a4-cc85-e21f9bdec6aa"
      },
      "source": [
        "support = []\r\n",
        "for i in range(len(dataset)):\r\n",
        "  support.append(1)\r\n",
        "dataset['support'] = support\r\n",
        "dataset"
      ],
      "execution_count": null,
      "outputs": [
        {
          "output_type": "execute_result",
          "data": {
            "text/html": [
              "<div>\n",
              "<style scoped>\n",
              "    .dataframe tbody tr th:only-of-type {\n",
              "        vertical-align: middle;\n",
              "    }\n",
              "\n",
              "    .dataframe tbody tr th {\n",
              "        vertical-align: top;\n",
              "    }\n",
              "\n",
              "    .dataframe thead th {\n",
              "        text-align: right;\n",
              "    }\n",
              "</style>\n",
              "<table border=\"1\" class=\"dataframe\">\n",
              "  <thead>\n",
              "    <tr style=\"text-align: right;\">\n",
              "      <th></th>\n",
              "      <th>tid</th>\n",
              "      <th>pattern</th>\n",
              "      <th>cardinality</th>\n",
              "      <th>support</th>\n",
              "    </tr>\n",
              "  </thead>\n",
              "  <tbody>\n",
              "    <tr>\n",
              "      <th>0</th>\n",
              "      <td>1</td>\n",
              "      <td>[1, 1, 0, 1, 0, 1, 1, 1]</td>\n",
              "      <td>6</td>\n",
              "      <td>1</td>\n",
              "    </tr>\n",
              "    <tr>\n",
              "      <th>1</th>\n",
              "      <td>2</td>\n",
              "      <td>[1, 1, 1, 1, 0, 0, 0, 1]</td>\n",
              "      <td>5</td>\n",
              "      <td>1</td>\n",
              "    </tr>\n",
              "    <tr>\n",
              "      <th>2</th>\n",
              "      <td>3</td>\n",
              "      <td>[1, 1, 1, 0, 1, 1, 0, 0]</td>\n",
              "      <td>5</td>\n",
              "      <td>1</td>\n",
              "    </tr>\n",
              "    <tr>\n",
              "      <th>3</th>\n",
              "      <td>4</td>\n",
              "      <td>[1, 0, 1, 0, 1, 1, 0, 1]</td>\n",
              "      <td>5</td>\n",
              "      <td>1</td>\n",
              "    </tr>\n",
              "    <tr>\n",
              "      <th>4</th>\n",
              "      <td>5</td>\n",
              "      <td>[0, 1, 1, 0, 1, 1, 0, 0]</td>\n",
              "      <td>4</td>\n",
              "      <td>1</td>\n",
              "    </tr>\n",
              "    <tr>\n",
              "      <th>5</th>\n",
              "      <td>6</td>\n",
              "      <td>[0, 1, 1, 0, 0, 0, 1, 0]</td>\n",
              "      <td>3</td>\n",
              "      <td>1</td>\n",
              "    </tr>\n",
              "  </tbody>\n",
              "</table>\n",
              "</div>"
            ],
            "text/plain": [
              "   tid                   pattern  cardinality  support\n",
              "0    1  [1, 1, 0, 1, 0, 1, 1, 1]            6        1\n",
              "1    2  [1, 1, 1, 1, 0, 0, 0, 1]            5        1\n",
              "2    3  [1, 1, 1, 0, 1, 1, 0, 0]            5        1\n",
              "3    4  [1, 0, 1, 0, 1, 1, 0, 1]            5        1\n",
              "4    5  [0, 1, 1, 0, 1, 1, 0, 0]            4        1\n",
              "5    6  [0, 1, 1, 0, 0, 0, 1, 0]            3        1"
            ]
          },
          "metadata": {
            "tags": []
          },
          "execution_count": 14
        }
      ]
    },
    {
      "cell_type": "code",
      "metadata": {
        "colab": {
          "base_uri": "https://localhost:8080/"
        },
        "id": "dt47uvriQ92C",
        "outputId": "d846ca50-f4f3-4fdd-ace8-7c9acb1c9a67"
      },
      "source": [
        "len(dataset.pattern[0])"
      ],
      "execution_count": null,
      "outputs": [
        {
          "output_type": "execute_result",
          "data": {
            "text/plain": [
              "8"
            ]
          },
          "metadata": {
            "tags": []
          },
          "execution_count": 15
        }
      ]
    },
    {
      "cell_type": "markdown",
      "metadata": {
        "id": "GbwwtY1q_SEp"
      },
      "source": [
        "### Sorting"
      ]
    },
    {
      "cell_type": "code",
      "metadata": {
        "id": "w4Vnhbvv_Nno"
      },
      "source": [
        "def sort(df):\r\n",
        "  count = 0\r\n",
        "  ones = []\r\n",
        "  for item in df.pattern:\r\n",
        "    for j in range(len(item)):\r\n",
        "      if item[j] == 1:\r\n",
        "        count += 1\r\n",
        "    ones.append(count)\r\n",
        "    count = 0\r\n",
        "  df['cardinality'] = ones\r\n",
        "\r\n",
        "  df = df.sort_values(by ='cardinality',ascending=False )\r\n",
        "  df = df.reset_index()\r\n",
        "  df = df.drop(['index'], axis=1)\r\n",
        "  return df"
      ],
      "execution_count": null,
      "outputs": []
    },
    {
      "cell_type": "markdown",
      "metadata": {
        "id": "jn5boGz9AdoY"
      },
      "source": [
        "### Intersection"
      ]
    },
    {
      "cell_type": "code",
      "metadata": {
        "id": "nyIih4jl_UyQ"
      },
      "source": [
        "def intersection(p1, p2):\r\n",
        "  ones = []\r\n",
        "  for i in range(len(p1)):\r\n",
        "    if p1[i] and p2[i] == 1:\r\n",
        "      ones.append(1)\r\n",
        "    else:\r\n",
        "      ones.append(0)\r\n",
        "  return ones"
      ],
      "execution_count": null,
      "outputs": []
    },
    {
      "cell_type": "markdown",
      "metadata": {
        "id": "Mej45s-DAjKI"
      },
      "source": [
        "### Checking for subsets"
      ]
    },
    {
      "cell_type": "code",
      "metadata": {
        "id": "aNRsbazbAg0v"
      },
      "source": [
        "def compare(p1,p2):\r\n",
        "  for i in range(len(p1)):\r\n",
        "    if p1[i] != p2[i]:\r\n",
        "      return False\r\n",
        "  return True"
      ],
      "execution_count": null,
      "outputs": []
    },
    {
      "cell_type": "markdown",
      "metadata": {
        "id": "t2Wk8WCUAoi4"
      },
      "source": [
        "### Colossal checking"
      ]
    },
    {
      "cell_type": "code",
      "metadata": {
        "id": "qyprR5BVAmjg"
      },
      "source": [
        "def colossal(p,cp):\r\n",
        "  count = 0\r\n",
        "  for i in range(len(cp)):\r\n",
        "    for j in range(len(p)):\r\n",
        "      print(cp[i][j])\r\n",
        "      if p[j] == 1 and cp[i][j] == 0:\r\n",
        "        count += 1\r\n",
        "        break\r\n",
        "  if count == len(cp):\r\n",
        "    return True\r\n",
        "  else:\r\n",
        "    return False"
      ],
      "execution_count": null,
      "outputs": []
    },
    {
      "cell_type": "code",
      "metadata": {
        "colab": {
          "base_uri": "https://localhost:8080/"
        },
        "id": "ptQf6H1WE3B6",
        "outputId": "d4d59420-9930-4e50-8ec7-e0872cd06a73"
      },
      "source": [
        "cp = []\r\n",
        "colossal([0, 0, 0, 0, 0, 0, 0, 1, 0, 0, 0, 0, 0, 1, 0, 0, 0, 0, 0, 0, 0, 0, 0, 0, 0, 0, 0, 0, 0, 0, 0, 0, 0, 0, 0, 0, 0, 0, 0],cp)"
      ],
      "execution_count": null,
      "outputs": [
        {
          "output_type": "execute_result",
          "data": {
            "text/plain": [
              "True"
            ]
          },
          "metadata": {
            "tags": []
          },
          "execution_count": 20
        }
      ]
    },
    {
      "cell_type": "markdown",
      "metadata": {
        "id": "q-4hi2IBe92d"
      },
      "source": [
        "Function to find cardinality of an Itemset/Pattern"
      ]
    },
    {
      "cell_type": "code",
      "metadata": {
        "id": "h3GrQAOY-Chc"
      },
      "source": [
        "def cardinality(p):\r\n",
        "  count = 0\r\n",
        "  for i in range(len(p)):\r\n",
        "    if p[i] == 1:\r\n",
        "      count += 1\r\n",
        "  return count"
      ],
      "execution_count": null,
      "outputs": []
    },
    {
      "cell_type": "markdown",
      "metadata": {
        "id": "O9raNT42fMtW"
      },
      "source": [
        "**PCP-Miner Algorithm**"
      ]
    },
    {
      "cell_type": "code",
      "metadata": {
        "id": "UqcXpH7xAxFa"
      },
      "source": [
        "minsup = 2\r\n",
        "CP = []\r\n",
        "\r\n",
        "\r\n",
        "def PCPMiner(T, CP, minsup):\r\n",
        "  T = sort(T)\r\n",
        "  \r\n",
        "  if T.support[0] == minsup:\r\n",
        "    #print(T.support)\r\n",
        "    for i in range(len(T)):\r\n",
        "      if colossal(T.pattern[i],CP):\r\n",
        "        CP.append(T.pattern[i])\r\n",
        "    #print('Colossal patterns are:',CP)\r\n",
        "  else:\r\n",
        "    k = 0\r\n",
        "    size = len(T)\r\n",
        "    for i in range(size):\r\n",
        "      temp = 0\r\n",
        "      if i == size-k:\r\n",
        "        break\r\n",
        "\r\n",
        "      #prune branches that will do not expand till minsup level\r\n",
        "      if (T.support[i] + len(T) - i) > minsup:\r\n",
        "        T1 = pd.DataFrame(columns= ['tid','pattern','support'])\r\n",
        "        delete = 0\r\n",
        "        for j in range(i+1, len(T)):\r\n",
        "          #when a node is deleted we need to decrement the iterator\r\n",
        "          if temp == 1:\r\n",
        "            j = j - delete\r\n",
        "          #useful when rows are deleted\r\n",
        "          if j == size-k:\r\n",
        "            break\r\n",
        "\r\n",
        "          newpattern = intersection(T.pattern[i], T.pattern[j])\r\n",
        "          support = T.support[i] + 1\r\n",
        "\r\n",
        "\r\n",
        "          tid = int(str(T.tid[i]) + str(T.tid[j]))\r\n",
        "          \r\n",
        "          if compare(T.pattern[j], newpattern):\r\n",
        "            \r\n",
        "            temp = 1\r\n",
        "            k = k + 1\r\n",
        "            delete = delete + 1\r\n",
        "            T = T.drop(j, axis= 0)\r\n",
        "            T = T.reset_index()\r\n",
        "            T = T.drop(['index'], axis=1)              \r\n",
        "        \r\n",
        "            #if i == 1 and j == 2:\r\n",
        "              #print(T.pattern[i], T.pattern[j],i,j,k,len(T),size)\r\n",
        "              #print(T)\r\n",
        "          \r\n",
        "          if cardinality(newpattern) >= 2:\r\n",
        "            #if i == 1  and j == 2:\r\n",
        "              #print(' values Gudumbashankar is:',cardinality(newpattern))\r\n",
        "              #print('################')\r\n",
        "            X = pd.DataFrame({'tid':tid, 'pattern': [newpattern], 'support': support})\r\n",
        "            T1 = T1.append(X,ignore_index=True)\r\n",
        "            #nodes = nodes + 1\r\n",
        "            #print(nodes)\r\n",
        "        #print(T1)\r\n",
        "        if len(T1) != 0:\r\n",
        "          PCPMiner(T1,CP,minsup)\r\n",
        "        else:\r\n",
        "          return    "
      ],
      "execution_count": null,
      "outputs": []
    },
    {
      "cell_type": "markdown",
      "metadata": {
        "id": "_8EjIDw6fX29"
      },
      "source": [
        "Calling the PCPMiner Algorithm and computing the Time"
      ]
    },
    {
      "cell_type": "code",
      "metadata": {
        "id": "kST5f9gTAy2W",
        "colab": {
          "base_uri": "https://localhost:8080/"
        },
        "outputId": "be2a4d70-c99d-4c02-bca4-d5c8426796a1"
      },
      "source": [
        "import time\r\n",
        "#nodes = len(dataset)\r\n",
        "start_time = time.time()\r\n",
        "PCPMiner(dataset, CP, minsup)\r\n",
        "end_time = time.time()"
      ],
      "execution_count": null,
      "outputs": [
        {
          "output_type": "stream",
          "text": [
            "1\n",
            "1\n",
            "0\n",
            "1\n",
            "0\n",
            "0\n",
            "1\n",
            "1\n",
            "0\n",
            "1\n",
            "0\n",
            "0\n",
            "1\n",
            "1\n",
            "0\n",
            "0\n",
            "0\n",
            "1\n",
            "0\n",
            "0\n",
            "1\n",
            "1\n",
            "0\n",
            "1\n",
            "0\n",
            "0\n",
            "1\n",
            "1\n",
            "0\n",
            "0\n",
            "0\n",
            "1\n",
            "0\n",
            "0\n",
            "1\n",
            "0\n",
            "1\n",
            "1\n",
            "0\n",
            "1\n",
            "0\n",
            "0\n",
            "0\n",
            "1\n",
            "1\n",
            "0\n",
            "0\n",
            "0\n",
            "1\n",
            "0\n",
            "1\n",
            "0\n",
            "1\n",
            "1\n",
            "0\n",
            "1\n",
            "1\n",
            "0\n",
            "1\n",
            "0\n",
            "0\n",
            "1\n",
            "1\n",
            "0\n",
            "1\n",
            "1\n",
            "0\n",
            "1\n",
            "0\n",
            "0\n",
            "0\n",
            "1\n",
            "1\n",
            "1\n",
            "0\n",
            "0\n",
            "0\n",
            "0\n",
            "0\n",
            "1\n",
            "1\n",
            "0\n",
            "1\n",
            "1\n",
            "0\n",
            "1\n",
            "0\n",
            "0\n",
            "1\n",
            "0\n",
            "1\n",
            "1\n",
            "1\n",
            "0\n",
            "0\n",
            "0\n",
            "0\n",
            "0\n",
            "1\n",
            "0\n",
            "1\n",
            "1\n",
            "0\n",
            "1\n",
            "1\n",
            "0\n",
            "1\n",
            "0\n",
            "0\n",
            "1\n",
            "0\n",
            "1\n",
            "1\n",
            "1\n",
            "0\n",
            "0\n",
            "0\n",
            "0\n",
            "0\n",
            "1\n",
            "0\n",
            "1\n",
            "1\n",
            "0\n",
            "1\n",
            "1\n",
            "0\n",
            "1\n",
            "0\n",
            "0\n",
            "0\n",
            "1\n",
            "1\n",
            "1\n",
            "0\n",
            "0\n",
            "1\n",
            "0\n",
            "1\n",
            "0\n",
            "0\n",
            "1\n",
            "1\n",
            "0\n",
            "1\n",
            "1\n",
            "0\n",
            "1\n",
            "0\n",
            "0\n",
            "1\n",
            "0\n",
            "1\n",
            "1\n",
            "1\n",
            "0\n",
            "0\n",
            "1\n",
            "0\n",
            "1\n",
            "0\n",
            "1\n",
            "1\n",
            "0\n",
            "1\n",
            "1\n",
            "0\n",
            "1\n",
            "0\n",
            "0\n",
            "1\n",
            "0\n",
            "1\n",
            "1\n",
            "1\n",
            "0\n",
            "0\n",
            "0\n",
            "0\n",
            "0\n",
            "1\n",
            "0\n",
            "1\n",
            "0\n",
            "0\n",
            "1\n",
            "1\n",
            "0\n",
            "1\n",
            "1\n",
            "0\n",
            "0\n"
          ],
          "name": "stdout"
        }
      ]
    },
    {
      "cell_type": "markdown",
      "metadata": {
        "id": "LQUxFhrbfuqe"
      },
      "source": [
        "Listing all the Colossal Patterns found"
      ]
    },
    {
      "cell_type": "code",
      "metadata": {
        "id": "2ELhTf1yA1yf",
        "colab": {
          "base_uri": "https://localhost:8080/"
        },
        "outputId": "ca96e924-c65e-4c27-9e80-4dc7117930cc"
      },
      "source": [
        "print('The final colossal patterns are: ',len(CP))\r\n",
        "CP"
      ],
      "execution_count": null,
      "outputs": [
        {
          "output_type": "stream",
          "text": [
            "The final colossal patterns are:  8\n"
          ],
          "name": "stdout"
        },
        {
          "output_type": "execute_result",
          "data": {
            "text/plain": [
              "[[1, 1, 0, 1, 0, 0, 0, 1],\n",
              " [1, 1, 0, 0, 0, 1, 0, 0],\n",
              " [1, 0, 0, 0, 0, 1, 0, 1],\n",
              " [0, 1, 0, 0, 0, 0, 1, 0],\n",
              " [1, 1, 1, 0, 0, 0, 0, 0],\n",
              " [1, 0, 1, 0, 0, 0, 0, 1],\n",
              " [1, 0, 1, 0, 1, 1, 0, 0],\n",
              " [0, 1, 1, 0, 1, 1, 0, 0]]"
            ]
          },
          "metadata": {
            "tags": []
          },
          "execution_count": 24
        }
      ]
    },
    {
      "cell_type": "code",
      "metadata": {
        "id": "G7mv-zrnGTch",
        "colab": {
          "base_uri": "https://localhost:8080/"
        },
        "outputId": "eb3ac8af-62df-490b-8888-219c1afdf56a"
      },
      "source": [
        "for i in range(len(CP)):\r\n",
        "  print(cardinality(CP[i]))"
      ],
      "execution_count": null,
      "outputs": [
        {
          "output_type": "stream",
          "text": [
            "4\n",
            "3\n",
            "3\n",
            "2\n",
            "3\n",
            "3\n",
            "4\n",
            "4\n"
          ],
          "name": "stdout"
        }
      ]
    },
    {
      "cell_type": "markdown",
      "metadata": {
        "id": "TbxxYPJDf7lC"
      },
      "source": [
        "**Computation time**"
      ]
    },
    {
      "cell_type": "code",
      "metadata": {
        "id": "FNRBZL17lck3",
        "colab": {
          "base_uri": "https://localhost:8080/"
        },
        "outputId": "53c95203-99b6-4608-fa7b-e92b76ccf59f"
      },
      "source": [
        "print(end_time-start_time)"
      ],
      "execution_count": null,
      "outputs": [
        {
          "output_type": "stream",
          "text": [
            "0.08850502967834473\n"
          ],
          "name": "stdout"
        }
      ]
    },
    {
      "cell_type": "markdown",
      "metadata": {
        "id": "c_AWALNqgFnT"
      },
      "source": [
        "Plotting Runtime vs Minimum_Support curve "
      ]
    },
    {
      "cell_type": "code",
      "metadata": {
        "id": "5iBOqPclSUTs",
        "colab": {
          "base_uri": "https://localhost:8080/",
          "height": 279
        },
        "outputId": "3c788029-bae9-4a0c-834d-6f741fe6994b"
      },
      "source": [
        "#retail\r\n",
        "import matplotlib.pyplot as plt\r\n",
        "\r\n",
        "min_sup = [2,3,4,5]\r\n",
        "runtime1 = [1.3,3.2,5.1,6.5]\r\n",
        "runtime2 = [2.93,8.5,14.5,19.8]\r\n",
        "\r\n",
        "plt.plot(min_sup,runtime1,label=\"Modified PCP Miner\")\r\n",
        "plt.plot(min_sup,runtime2,label=\"PCP Miner\")\r\n",
        "plt.xlabel(\"minsup\")\r\n",
        "plt.ylabel(\"run time(sec)\")\r\n",
        "plt.legend()\r\n",
        "plt.xticks(min_sup)\r\n",
        "plt.show()"
      ],
      "execution_count": null,
      "outputs": [
        {
          "output_type": "display_data",
          "data": {
            "image/png": "[encoded data removed]",
            "text/plain": [
              "<Figure size 432x288 with 1 Axes>"
            ]
          },
          "metadata": {
            "tags": [],
            "needs_background": "light"
          }
        }
      ]
    },
    {
      "cell_type": "code",
      "metadata": {
        "colab": {
          "base_uri": "https://localhost:8080/"
        },
        "id": "GZZ5cFKJYPtr",
        "outputId": "f57f624b-02d8-433b-b94f-1daf062e1742"
      },
      "source": [
        "a=dataset.pattern\r\n",
        "for each in a:\r\n",
        "  print('#',each)"
      ],
      "execution_count": null,
      "outputs": [
        {
          "output_type": "stream",
          "text": [
            "# [1 1 0 1 0 1 1 1]\n",
            "# [1 1 1 1 0 0 0 1]\n",
            "# [1 1 1 0 1 1 0 0]\n",
            "# [1 0 1 0 1 1 0 1]\n",
            "# [0 1 1 0 1 1 0 0]\n",
            "# [0 1 1 0 0 0 1 0]\n"
          ],
          "name": "stdout"
        }
      ]
    },
    {
      "cell_type": "code",
      "metadata": {
        "colab": {
          "base_uri": "https://localhost:8080/"
        },
        "id": "AS6GfJThYTAi",
        "outputId": "b6ba2418-2f0e-44f3-c465-938a89a53cec"
      },
      "source": [
        "CP"
      ],
      "execution_count": null,
      "outputs": [
        {
          "output_type": "execute_result",
          "data": {
            "text/plain": [
              "[[1, 1, 0, 1, 0, 0, 0, 1],\n",
              " [1, 1, 0, 0, 0, 1, 0, 0],\n",
              " [1, 0, 0, 0, 0, 1, 0, 1],\n",
              " [0, 1, 0, 0, 0, 0, 1, 0],\n",
              " [1, 1, 1, 0, 0, 0, 0, 0],\n",
              " [1, 0, 1, 0, 0, 0, 0, 1],\n",
              " [1, 0, 1, 0, 1, 1, 0, 0],\n",
              " [0, 1, 1, 0, 1, 1, 0, 0]]"
            ]
          },
          "metadata": {
            "tags": []
          },
          "execution_count": 29
        }
      ]
    },
    {
      "cell_type": "code",
      "metadata": {
        "id": "bL16N_XKYzNw"
      },
      "source": [
        "def patcmp(x,data):\r\n",
        "  for i in range(len(x)):\r\n",
        "    if x[i]==1 and data[i]!=1:\r\n",
        "      return False\r\n",
        "  return True\r\n"
      ],
      "execution_count": null,
      "outputs": []
    },
    {
      "cell_type": "markdown",
      "metadata": {
        "id": "PDNrYdjmgv1B"
      },
      "source": [
        "**Checking if the Colossal patterns found are possible or not from the given dataset:**\r\n",
        "\r\n",
        "Each colossal pattern must be a subset of atleast one itemset in the given dataset\r\n"
      ]
    },
    {
      "cell_type": "code",
      "metadata": {
        "colab": {
          "base_uri": "https://localhost:8080/"
        },
        "id": "OBoOW5jaamXk",
        "outputId": "94adbf6c-a43e-4536-d513-d34450752462"
      },
      "source": [
        "for each in CP:\r\n",
        "  value=[]\r\n",
        "  for data in dataset.pattern:\r\n",
        "    value.append(patcmp(each,data))\r\n",
        "  print(value)\r\n",
        "  if True not in value:\r\n",
        "    print('The pattern is not possible', each)\r\n",
        "  else:\r\n",
        "    print('The pattern is possible', each)"
      ],
      "execution_count": null,
      "outputs": [
        {
          "output_type": "stream",
          "text": [
            "[True, True, False, False, False, False]\n",
            "The pattern is possible [1, 1, 0, 1, 0, 0, 0, 1]\n",
            "[True, False, True, False, False, False]\n",
            "The pattern is possible [1, 1, 0, 0, 0, 1, 0, 0]\n",
            "[True, False, False, True, False, False]\n",
            "The pattern is possible [1, 0, 0, 0, 0, 1, 0, 1]\n",
            "[True, False, False, False, False, True]\n",
            "The pattern is possible [0, 1, 0, 0, 0, 0, 1, 0]\n",
            "[False, True, True, False, False, False]\n",
            "The pattern is possible [1, 1, 1, 0, 0, 0, 0, 0]\n",
            "[False, True, False, True, False, False]\n",
            "The pattern is possible [1, 0, 1, 0, 0, 0, 0, 1]\n",
            "[False, False, True, True, False, False]\n",
            "The pattern is possible [1, 0, 1, 0, 1, 1, 0, 0]\n",
            "[False, False, True, False, True, False]\n",
            "The pattern is possible [0, 1, 1, 0, 1, 1, 0, 0]\n"
          ],
          "name": "stdout"
        }
      ]
    },
    {
      "cell_type": "code",
      "metadata": {
        "id": "v5n6B5uHISVT"
      },
      "source": [
        ""
      ],
      "execution_count": null,
      "outputs": []
    },
    {
      "cell_type": "markdown",
      "metadata": {
        "id": "tzaZWA3Che9Q"
      },
      "source": [
        "**Hence, all the patterns found are VALID**\r\n",
        "\r\n",
        "\r\n",
        "\r\n",
        "\r\n",
        "\r\n",
        "\r\n"
      ]
    },
    {
      "cell_type": "code",
      "metadata": {
        "id": "LomLHti7JF0i"
      },
      "source": [
        ""
      ],
      "execution_count": null,
      "outputs": []
    },
    {
      "cell_type": "code",
      "metadata": {
        "id": "aBncsqyrJF71"
      },
      "source": [
        ""
      ],
      "execution_count": null,
      "outputs": []
    },
    {
      "cell_type": "code",
      "metadata": {
        "id": "JmjKT4s-JGDF"
      },
      "source": [
        ""
      ],
      "execution_count": null,
      "outputs": []
    },
    {
      "cell_type": "markdown",
      "metadata": {
        "id": "YIs-aY4GKKeW"
      },
      "source": [
        "# **STATISTICAL MEASURES** "
      ]
    },
    {
      "cell_type": "markdown",
      "metadata": {
        "id": "SmzXCGVkKV1x"
      },
      "source": [
        "Function to get all possible subsets from each pattern:"
      ]
    },
    {
      "cell_type": "code",
      "metadata": {
        "colab": {
          "base_uri": "https://localhost:8080/"
        },
        "id": "OPbQuROcKQia",
        "outputId": "4bf6eed8-1cff-47e0-d836-b5aa1256fa4c"
      },
      "source": [
        "def get_power_set(s):\r\n",
        "  power_set=[[]]\r\n",
        "  for elem in s:\r\n",
        "    # iterate over the sub sets so far\r\n",
        "    for sub_set in power_set:\r\n",
        "      # add a new subset consisting of the subset at hand added elem\r\n",
        "      power_set=power_set+[list(sub_set)+[elem]]\r\n",
        "  power_set.remove(s)\r\n",
        "  power_set.remove([])\r\n",
        "  return power_set\r\n",
        "\r\n",
        "###Dummy example with a set 's':\r\n",
        "s=[1,2,3,4]\r\n",
        "subset_list=get_power_set(s)\r\n",
        "print(subset_list)\r\n",
        "\r\n"
      ],
      "execution_count": null,
      "outputs": [
        {
          "output_type": "stream",
          "text": [
            "[[1], [2], [1, 2], [3], [1, 3], [2, 3], [1, 2, 3], [4], [1, 4], [2, 4], [1, 2, 4], [3, 4], [1, 3, 4], [2, 3, 4]]\n"
          ],
          "name": "stdout"
        }
      ]
    },
    {
      "cell_type": "code",
      "metadata": {
        "id": "apgdkruKKzSU"
      },
      "source": [
        ""
      ],
      "execution_count": null,
      "outputs": []
    },
    {
      "cell_type": "markdown",
      "metadata": {
        "id": "0FQ5YF7BK9aC"
      },
      "source": [
        "Make them suitable for rule creation A => B"
      ]
    },
    {
      "cell_type": "code",
      "metadata": {
        "colab": {
          "base_uri": "https://localhost:8080/"
        },
        "id": "oxzRwrerQFI8",
        "outputId": "242c06a5-95c5-4fbe-c0e5-ee4ca2157876"
      },
      "source": [
        "for each in get_power_set(s):\r\n",
        "  A=each\r\n",
        "  B= [x for x in s if x not in each]\r\n",
        "\r\n",
        "  print(A,B)\r\n"
      ],
      "execution_count": null,
      "outputs": [
        {
          "output_type": "stream",
          "text": [
            "[1] [2, 3, 4]\n",
            "[2] [1, 3, 4]\n",
            "[1, 2] [3, 4]\n",
            "[3] [1, 2, 4]\n",
            "[1, 3] [2, 4]\n",
            "[2, 3] [1, 4]\n",
            "[1, 2, 3] [4]\n",
            "[4] [1, 2, 3]\n",
            "[1, 4] [2, 3]\n",
            "[2, 4] [1, 3]\n",
            "[1, 2, 4] [3]\n",
            "[3, 4] [1, 2]\n",
            "[1, 3, 4] [2]\n",
            "[2, 3, 4] [1]\n"
          ],
          "name": "stdout"
        }
      ]
    },
    {
      "cell_type": "code",
      "metadata": {
        "colab": {
          "base_uri": "https://localhost:8080/"
        },
        "id": "Uzc5NxBkRxGH",
        "outputId": "02411349-b1dd-496e-b257-231cd8dc57e4"
      },
      "source": [
        "print(\"The Original dataset:\\n \")\r\n",
        "database\r\n"
      ],
      "execution_count": null,
      "outputs": [
        {
          "output_type": "stream",
          "text": [
            "The Original dataset:\n",
            " \n"
          ],
          "name": "stdout"
        },
        {
          "output_type": "execute_result",
          "data": {
            "text/plain": [
              "[['a', 'b', 'd', 'f', 'j'],\n",
              " ['a', 'b', 'd', 'g', 'h'],\n",
              " ['b', 'd', 'g', 'h'],\n",
              " ['a', 'b', 'f', 'h', 'i', 'j'],\n",
              " ['a', 'c', 'd', 'g', 'h', 'j'],\n",
              " ['b', 'd', 'i'],\n",
              " ['e', 'g'],\n",
              " ['e', 'k']]"
            ]
          },
          "metadata": {
            "tags": []
          },
          "execution_count": 34
        }
      ]
    },
    {
      "cell_type": "code",
      "metadata": {
        "colab": {
          "base_uri": "https://localhost:8080/"
        },
        "id": "ATOdmx74T1va",
        "outputId": "ed9da63a-883b-4590-98e4-d30642dcff46"
      },
      "source": [
        "print(\"Colossal patterns formed are:\\n\")\r\n",
        "CP"
      ],
      "execution_count": null,
      "outputs": [
        {
          "output_type": "stream",
          "text": [
            "Colossal patterns formed are:\n",
            "\n"
          ],
          "name": "stdout"
        },
        {
          "output_type": "execute_result",
          "data": {
            "text/plain": [
              "[[1, 1, 0, 1, 0, 0, 0, 1],\n",
              " [1, 1, 0, 0, 0, 1, 0, 0],\n",
              " [1, 0, 0, 0, 0, 1, 0, 1],\n",
              " [0, 1, 0, 0, 0, 0, 1, 0],\n",
              " [1, 1, 1, 0, 0, 0, 0, 0],\n",
              " [1, 0, 1, 0, 0, 0, 0, 1],\n",
              " [1, 0, 1, 0, 1, 1, 0, 0],\n",
              " [0, 1, 1, 0, 1, 1, 0, 0]]"
            ]
          },
          "metadata": {
            "tags": []
          },
          "execution_count": 35
        }
      ]
    },
    {
      "cell_type": "code",
      "metadata": {
        "colab": {
          "base_uri": "https://localhost:8080/"
        },
        "id": "zCmViO_eWHPD",
        "outputId": "031621c6-0402-45ce-cc84-b35df149dd1a"
      },
      "source": [
        "itemset_new"
      ],
      "execution_count": null,
      "outputs": [
        {
          "output_type": "execute_result",
          "data": {
            "text/plain": [
              "array(['a', 'b', 'd', 'f', 'g', 'h', 'i', 'j'], dtype='<U1')"
            ]
          },
          "metadata": {
            "tags": []
          },
          "execution_count": 36
        }
      ]
    },
    {
      "cell_type": "markdown",
      "metadata": {
        "id": "ipTROUSML-hY"
      },
      "source": [
        "Writing the Colossal patterns in the form of transactions again:"
      ]
    },
    {
      "cell_type": "code",
      "metadata": {
        "colab": {
          "base_uri": "https://localhost:8080/"
        },
        "id": "KoAhepQobSDQ",
        "outputId": "0842ce5d-73b4-4c16-f664-2f0d058bf443"
      },
      "source": [
        "tr_new=[]\r\n",
        "for pattern in CP:\r\n",
        "  tr_new.append([itemset_new[i] for i in range(len(pattern)) if pattern[i]==1])\r\n",
        "tr_new"
      ],
      "execution_count": null,
      "outputs": [
        {
          "output_type": "execute_result",
          "data": {
            "text/plain": [
              "[['a', 'b', 'f', 'j'],\n",
              " ['a', 'b', 'h'],\n",
              " ['a', 'h', 'j'],\n",
              " ['b', 'i'],\n",
              " ['a', 'b', 'd'],\n",
              " ['a', 'd', 'j'],\n",
              " ['a', 'd', 'g', 'h'],\n",
              " ['b', 'd', 'g', 'h']]"
            ]
          },
          "metadata": {
            "tags": []
          },
          "execution_count": 37
        }
      ]
    },
    {
      "cell_type": "markdown",
      "metadata": {
        "id": "qGpJIJHaMOv7"
      },
      "source": [
        "Function to get support of an itemset/subset of an Itemset:"
      ]
    },
    {
      "cell_type": "code",
      "metadata": {
        "id": "REUUfWxAWPwR"
      },
      "source": [
        "def sup_sm(X):\r\n",
        "  count=0\r\n",
        "  for each in database:\r\n",
        "    if set(X)<=set(each):\r\n",
        "      count+=1\r\n",
        "  return count\r\n"
      ],
      "execution_count": null,
      "outputs": []
    },
    {
      "cell_type": "markdown",
      "metadata": {
        "id": "iMSrwJ6JMZXs"
      },
      "source": [
        "List of all the possible subsets from each colossal pattern"
      ]
    },
    {
      "cell_type": "code",
      "metadata": {
        "colab": {
          "base_uri": "https://localhost:8080/"
        },
        "id": "ALW3PnBsis3c",
        "outputId": "f896c3b7-4f02-40d9-ad56-17d9d0a3541b"
      },
      "source": [
        "all_subset_matrix=[]\r\n",
        "for i in range(len(tr_new)):\r\n",
        "  all_subset_matrix.append(get_power_set(tr_new[i]))\r\n",
        "print('subsets of all collosal patterns are:',np.array(all_subset_matrix))\r\n",
        "print('\\n\\n\\n')"
      ],
      "execution_count": null,
      "outputs": [
        {
          "output_type": "stream",
          "text": [
            "subsets of all collosal patterns are: [list([['a'], ['b'], ['a', 'b'], ['f'], ['a', 'f'], ['b', 'f'], ['a', 'b', 'f'], ['j'], ['a', 'j'], ['b', 'j'], ['a', 'b', 'j'], ['f', 'j'], ['a', 'f', 'j'], ['b', 'f', 'j']])\n",
            " list([['a'], ['b'], ['a', 'b'], ['h'], ['a', 'h'], ['b', 'h']])\n",
            " list([['a'], ['h'], ['a', 'h'], ['j'], ['a', 'j'], ['h', 'j']])\n",
            " list([['b'], ['i']])\n",
            " list([['a'], ['b'], ['a', 'b'], ['d'], ['a', 'd'], ['b', 'd']])\n",
            " list([['a'], ['d'], ['a', 'd'], ['j'], ['a', 'j'], ['d', 'j']])\n",
            " list([['a'], ['d'], ['a', 'd'], ['g'], ['a', 'g'], ['d', 'g'], ['a', 'd', 'g'], ['h'], ['a', 'h'], ['d', 'h'], ['a', 'd', 'h'], ['g', 'h'], ['a', 'g', 'h'], ['d', 'g', 'h']])\n",
            " list([['b'], ['d'], ['b', 'd'], ['g'], ['b', 'g'], ['d', 'g'], ['b', 'd', 'g'], ['h'], ['b', 'h'], ['d', 'h'], ['b', 'd', 'h'], ['g', 'h'], ['b', 'g', 'h'], ['d', 'g', 'h']])]\n",
            "\n",
            "\n",
            "\n",
            "\n"
          ],
          "name": "stdout"
        },
        {
          "output_type": "stream",
          "text": [
            "/usr/local/lib/python3.6/dist-packages/ipykernel_launcher.py:4: VisibleDeprecationWarning: Creating an ndarray from ragged nested sequences (which is a list-or-tuple of lists-or-tuples-or ndarrays with different lengths or shapes) is deprecated. If you meant to do this, you must specify 'dtype=object' when creating the ndarray\n",
            "  after removing the cwd from sys.path.\n"
          ],
          "name": "stderr"
        }
      ]
    },
    {
      "cell_type": "markdown",
      "metadata": {
        "id": "1Ey-jRVmMsiJ"
      },
      "source": [
        "# **Rule creation using statistical measure:**\r\n",
        "**Statistical measures Used:**\r\n",
        "\r\n",
        "\r\n",
        "1.   **Kulczynski Measure**\r\n",
        "2.   **Imbalance Ratio**\r\n",
        "\r\n",
        "\r\n",
        "\r\n"
      ]
    },
    {
      "cell_type": "code",
      "metadata": {
        "colab": {
          "base_uri": "https://localhost:8080/"
        },
        "id": "tD_G3SLgitqg",
        "outputId": "f07c87f3-88de-4cdc-9518-3d74cb040580"
      },
      "source": [
        "final_rules=[]\r\n",
        "final_patterns=[]\r\n",
        "i=0\r\n",
        "for subset_list in all_subset_matrix:\r\n",
        "  for subset in subset_list:\r\n",
        "    A=subset\r\n",
        "    B= [x for x in tr_new[i] if x not in subset]\r\n",
        "    Kulczynski=1/2*((sup_sm(tr_new[i])/sup_sm(A))+(sup_sm(tr_new[i])/sup_sm(B)))\r\n",
        "    if sup_sm(A)>=sup_sm(B):\r\n",
        "      IR=(sup_sm(A)-sup_sm(B))/(sup_sm(A)+sup_sm(B)-sup_sm(tr_new[i]))\r\n",
        "    if sup_sm(A)<sup_sm(B):\r\n",
        "      IR=(sup_sm(B)-sup_sm(A))/(sup_sm(A)+sup_sm(B)- sup_sm(tr_new[i]))\r\n",
        "    print(\"Kulczynski measure value of\",  A,B,Kulczynski)\r\n",
        "    print(\"statistical IR value of\",  IR)\r\n",
        "    if Kulczynski>=0.8:\r\n",
        "      final_rules.append([A,B])\r\n",
        "      if tr_new[i] not in final_patterns:\r\n",
        "        final_patterns.append(tr_new[i])\r\n",
        "    elif Kulczynski>=0.5 and IR>0.5:\r\n",
        "      final_rules.append([A,B])\r\n",
        "      if tr_new[i] not in final_patterns:\r\n",
        "        final_patterns.append(tr_new[i])\r\n",
        "  i+=1\r\n"
      ],
      "execution_count": null,
      "outputs": [
        {
          "output_type": "stream",
          "text": [
            "Kulczynski measure value of ['a'] ['b', 'f', 'j'] 0.75\n",
            "statistical IR value of 0.5\n",
            "Kulczynski measure value of ['b'] ['a', 'f', 'j'] 0.7\n",
            "statistical IR value of 0.6\n",
            "Kulczynski measure value of ['a', 'b'] ['f', 'j'] 0.8333333333333333\n",
            "statistical IR value of 0.3333333333333333\n",
            "Kulczynski measure value of ['f'] ['a', 'b', 'j'] 1.0\n",
            "statistical IR value of 0.0\n",
            "Kulczynski measure value of ['a', 'f'] ['b', 'j'] 1.0\n",
            "statistical IR value of 0.0\n",
            "Kulczynski measure value of ['b', 'f'] ['a', 'j'] 0.8333333333333333\n",
            "statistical IR value of 0.3333333333333333\n",
            "Kulczynski measure value of ['a', 'b', 'f'] ['j'] 0.8333333333333333\n",
            "statistical IR value of 0.3333333333333333\n",
            "Kulczynski measure value of ['j'] ['a', 'b', 'f'] 0.8333333333333333\n",
            "statistical IR value of 0.3333333333333333\n",
            "Kulczynski measure value of ['a', 'j'] ['b', 'f'] 0.8333333333333333\n",
            "statistical IR value of 0.3333333333333333\n",
            "Kulczynski measure value of ['b', 'j'] ['a', 'f'] 1.0\n",
            "statistical IR value of 0.0\n",
            "Kulczynski measure value of ['a', 'b', 'j'] ['f'] 1.0\n",
            "statistical IR value of 0.0\n",
            "Kulczynski measure value of ['f', 'j'] ['a', 'b'] 0.8333333333333333\n",
            "statistical IR value of 0.3333333333333333\n",
            "Kulczynski measure value of ['a', 'f', 'j'] ['b'] 0.7\n",
            "statistical IR value of 0.6\n",
            "Kulczynski measure value of ['b', 'f', 'j'] ['a'] 0.75\n",
            "statistical IR value of 0.5\n",
            "Kulczynski measure value of ['a'] ['b', 'h'] 0.5833333333333333\n",
            "statistical IR value of 0.2\n",
            "Kulczynski measure value of ['b'] ['a', 'h'] 0.5333333333333333\n",
            "statistical IR value of 0.3333333333333333\n",
            "Kulczynski measure value of ['a', 'b'] ['h'] 0.5833333333333333\n",
            "statistical IR value of 0.2\n",
            "Kulczynski measure value of ['h'] ['a', 'b'] 0.5833333333333333\n",
            "statistical IR value of 0.2\n",
            "Kulczynski measure value of ['a', 'h'] ['b'] 0.5333333333333333\n",
            "statistical IR value of 0.3333333333333333\n",
            "Kulczynski measure value of ['b', 'h'] ['a'] 0.5833333333333333\n",
            "statistical IR value of 0.2\n",
            "Kulczynski measure value of ['a'] ['h', 'j'] 0.75\n",
            "statistical IR value of 0.5\n",
            "Kulczynski measure value of ['h'] ['a', 'j'] 0.5833333333333333\n",
            "statistical IR value of 0.2\n",
            "Kulczynski measure value of ['a', 'h'] ['j'] 0.6666666666666666\n",
            "statistical IR value of 0.0\n",
            "Kulczynski measure value of ['j'] ['a', 'h'] 0.6666666666666666\n",
            "statistical IR value of 0.0\n",
            "Kulczynski measure value of ['a', 'j'] ['h'] 0.5833333333333333\n",
            "statistical IR value of 0.2\n",
            "Kulczynski measure value of ['h', 'j'] ['a'] 0.75\n",
            "statistical IR value of 0.5\n",
            "Kulczynski measure value of ['b'] ['i'] 0.7\n",
            "statistical IR value of 0.6\n",
            "Kulczynski measure value of ['i'] ['b'] 0.7\n",
            "statistical IR value of 0.6\n",
            "Kulczynski measure value of ['a'] ['b', 'd'] 0.5\n",
            "statistical IR value of 0.0\n",
            "Kulczynski measure value of ['b'] ['a', 'd'] 0.5333333333333333\n",
            "statistical IR value of 0.3333333333333333\n",
            "Kulczynski measure value of ['a', 'b'] ['d'] 0.5333333333333333\n",
            "statistical IR value of 0.3333333333333333\n",
            "Kulczynski measure value of ['d'] ['a', 'b'] 0.5333333333333333\n",
            "statistical IR value of 0.3333333333333333\n",
            "Kulczynski measure value of ['a', 'd'] ['b'] 0.5333333333333333\n",
            "statistical IR value of 0.3333333333333333\n",
            "Kulczynski measure value of ['b', 'd'] ['a'] 0.5\n",
            "statistical IR value of 0.0\n",
            "Kulczynski measure value of ['a'] ['d', 'j'] 0.75\n",
            "statistical IR value of 0.5\n",
            "Kulczynski measure value of ['d'] ['a', 'j'] 0.5333333333333333\n",
            "statistical IR value of 0.3333333333333333\n",
            "Kulczynski measure value of ['a', 'd'] ['j'] 0.6666666666666666\n",
            "statistical IR value of 0.0\n",
            "Kulczynski measure value of ['j'] ['a', 'd'] 0.6666666666666666\n",
            "statistical IR value of 0.0\n",
            "Kulczynski measure value of ['a', 'j'] ['d'] 0.5333333333333333\n",
            "statistical IR value of 0.3333333333333333\n",
            "Kulczynski measure value of ['d', 'j'] ['a'] 0.75\n",
            "statistical IR value of 0.5\n",
            "Kulczynski measure value of ['a'] ['d', 'g', 'h'] 0.5833333333333333\n",
            "statistical IR value of 0.2\n",
            "Kulczynski measure value of ['d'] ['a', 'g', 'h'] 0.7\n",
            "statistical IR value of 0.6\n",
            "Kulczynski measure value of ['a', 'd'] ['g', 'h'] 0.6666666666666666\n",
            "statistical IR value of 0.0\n",
            "Kulczynski measure value of ['g'] ['a', 'd', 'h'] 0.75\n",
            "statistical IR value of 0.5\n",
            "Kulczynski measure value of ['a', 'g'] ['d', 'h'] 0.8333333333333333\n",
            "statistical IR value of 0.3333333333333333\n",
            "Kulczynski measure value of ['d', 'g'] ['a', 'h'] 0.6666666666666666\n",
            "statistical IR value of 0.0\n",
            "Kulczynski measure value of ['a', 'd', 'g'] ['h'] 0.75\n",
            "statistical IR value of 0.5\n",
            "Kulczynski measure value of ['h'] ['a', 'd', 'g'] 0.75\n",
            "statistical IR value of 0.5\n",
            "Kulczynski measure value of ['a', 'h'] ['d', 'g'] 0.6666666666666666\n",
            "statistical IR value of 0.0\n",
            "Kulczynski measure value of ['d', 'h'] ['a', 'g'] 0.8333333333333333\n",
            "statistical IR value of 0.3333333333333333\n",
            "Kulczynski measure value of ['a', 'd', 'h'] ['g'] 0.75\n",
            "statistical IR value of 0.5\n",
            "Kulczynski measure value of ['g', 'h'] ['a', 'd'] 0.6666666666666666\n",
            "statistical IR value of 0.0\n",
            "Kulczynski measure value of ['a', 'g', 'h'] ['d'] 0.7\n",
            "statistical IR value of 0.6\n",
            "Kulczynski measure value of ['d', 'g', 'h'] ['a'] 0.5833333333333333\n",
            "statistical IR value of 0.2\n",
            "Kulczynski measure value of ['b'] ['d', 'g', 'h'] 0.5333333333333333\n",
            "statistical IR value of 0.3333333333333333\n",
            "Kulczynski measure value of ['d'] ['b', 'g', 'h'] 0.7\n",
            "statistical IR value of 0.6\n",
            "Kulczynski measure value of ['b', 'd'] ['g', 'h'] 0.5833333333333333\n",
            "statistical IR value of 0.2\n",
            "Kulczynski measure value of ['g'] ['b', 'd', 'h'] 0.75\n",
            "statistical IR value of 0.5\n",
            "Kulczynski measure value of ['b', 'g'] ['d', 'h'] 0.8333333333333333\n",
            "statistical IR value of 0.3333333333333333\n",
            "Kulczynski measure value of ['d', 'g'] ['b', 'h'] 0.6666666666666666\n",
            "statistical IR value of 0.0\n",
            "Kulczynski measure value of ['b', 'd', 'g'] ['h'] 0.75\n",
            "statistical IR value of 0.5\n",
            "Kulczynski measure value of ['h'] ['b', 'd', 'g'] 0.75\n",
            "statistical IR value of 0.5\n",
            "Kulczynski measure value of ['b', 'h'] ['d', 'g'] 0.6666666666666666\n",
            "statistical IR value of 0.0\n",
            "Kulczynski measure value of ['d', 'h'] ['b', 'g'] 0.8333333333333333\n",
            "statistical IR value of 0.3333333333333333\n",
            "Kulczynski measure value of ['b', 'd', 'h'] ['g'] 0.75\n",
            "statistical IR value of 0.5\n",
            "Kulczynski measure value of ['g', 'h'] ['b', 'd'] 0.5833333333333333\n",
            "statistical IR value of 0.2\n",
            "Kulczynski measure value of ['b', 'g', 'h'] ['d'] 0.7\n",
            "statistical IR value of 0.6\n",
            "Kulczynski measure value of ['d', 'g', 'h'] ['b'] 0.5333333333333333\n",
            "statistical IR value of 0.3333333333333333\n"
          ],
          "name": "stdout"
        }
      ]
    },
    {
      "cell_type": "markdown",
      "metadata": {
        "id": "j1O4GBHgNcFM"
      },
      "source": [
        "Threshold for Kulczynski measure is set to 0.8.\r\n",
        "i.e all the rules that have the value more than 0.8 are considered to be interesting.\r\n",
        "\r\n",
        "If the value is less than 0.8 and greater than 0.5, The Imbalance ratio(IR) value is checked: if the IR value is more than the threshold(0.5) then the rule is considered to be interesting(considering the skewness of data).\r\n",
        "\r\n",
        "Otherwise , the rule is eliminated\r\n"
      ]
    },
    {
      "cell_type": "code",
      "metadata": {
        "colab": {
          "base_uri": "https://localhost:8080/"
        },
        "id": "ZvhvRwjf2DEK",
        "outputId": "1c0f1b3a-e551-4914-df98-7b8143a1ce1f"
      },
      "source": [
        "print(\"Interesting rules found are:\")\r\n",
        "for i,each_rule in enumerate(final_rules):\r\n",
        "  print(\"rule\"+ str(i+1),each_rule)"
      ],
      "execution_count": null,
      "outputs": [
        {
          "output_type": "stream",
          "text": [
            "Interesting rules found are:\n",
            "rule1 [['b'], ['a', 'f', 'j']]\n",
            "rule2 [['a', 'b'], ['f', 'j']]\n",
            "rule3 [['f'], ['a', 'b', 'j']]\n",
            "rule4 [['a', 'f'], ['b', 'j']]\n",
            "rule5 [['b', 'f'], ['a', 'j']]\n",
            "rule6 [['a', 'b', 'f'], ['j']]\n",
            "rule7 [['j'], ['a', 'b', 'f']]\n",
            "rule8 [['a', 'j'], ['b', 'f']]\n",
            "rule9 [['b', 'j'], ['a', 'f']]\n",
            "rule10 [['a', 'b', 'j'], ['f']]\n",
            "rule11 [['f', 'j'], ['a', 'b']]\n",
            "rule12 [['a', 'f', 'j'], ['b']]\n",
            "rule13 [['b'], ['i']]\n",
            "rule14 [['i'], ['b']]\n",
            "rule15 [['d'], ['a', 'g', 'h']]\n",
            "rule16 [['a', 'g'], ['d', 'h']]\n",
            "rule17 [['d', 'h'], ['a', 'g']]\n",
            "rule18 [['a', 'g', 'h'], ['d']]\n",
            "rule19 [['d'], ['b', 'g', 'h']]\n",
            "rule20 [['b', 'g'], ['d', 'h']]\n",
            "rule21 [['d', 'h'], ['b', 'g']]\n",
            "rule22 [['b', 'g', 'h'], ['d']]\n"
          ],
          "name": "stdout"
        }
      ]
    },
    {
      "cell_type": "markdown",
      "metadata": {
        "id": "2HO6wGw_O3nM"
      },
      "source": [
        "**Hence, the final interesting patterns found are:**"
      ]
    },
    {
      "cell_type": "code",
      "metadata": {
        "colab": {
          "base_uri": "https://localhost:8080/"
        },
        "id": "DBJlga9r-qC6",
        "outputId": "284f52cc-29ff-416e-e5ff-85da3ecd2f73"
      },
      "source": [
        "for i in final_patterns:\r\n",
        "  print(i)"
      ],
      "execution_count": null,
      "outputs": [
        {
          "output_type": "stream",
          "text": [
            "['a', 'b', 'f', 'j']\n",
            "['b', 'i']\n",
            "['a', 'd', 'g', 'h']\n",
            "['b', 'd', 'g', 'h']\n"
          ],
          "name": "stdout"
        }
      ]
    }
  ]
}